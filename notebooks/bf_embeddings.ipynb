{
 "cells": [
  {
   "cell_type": "code",
   "execution_count": 17,
   "id": "a1f18fd3-3c4e-440b-942e-7dfc641a6cd6",
   "metadata": {
    "tags": []
   },
   "outputs": [],
   "source": [
    "import pandas as pd\n",
    "import redis\n",
    "from redis.commands.json.path import Path\n",
    "import json"
   ]
  },
  {
   "cell_type": "code",
   "execution_count": 19,
   "id": "c7c747d5-eff1-42a2-98bd-c4ecd5def9e0",
   "metadata": {},
   "outputs": [],
   "source": [
    "redis_connection = redis.Redis(host='snf-42929.ok-kno.grnetcloud.net', \n",
    "                               port=6379,\n",
    "                               # username='bf_user',\n",
    "                               # password='BugFr@m3w0rk',\n",
    "                               decode_responses=True)"
   ]
  },
  {
   "cell_type": "code",
   "execution_count": 5,
   "id": "4824ce46-9ab7-4dee-a0cd-d7629b9ea0c5",
   "metadata": {
    "tags": []
   },
   "outputs": [],
   "source": [
    "papers_df = pd.read_csv('data/cleaned_db_text.csv')"
   ]
  },
  {
   "cell_type": "code",
   "execution_count": 6,
   "id": "a8f3b06f-9291-40a9-89c2-55a299f97fb4",
   "metadata": {
    "tags": []
   },
   "outputs": [],
   "source": [
    "def get_json_entry(text: str, paper: str):\n",
    "    return {\n",
    "        \"text\": text,\n",
    "        \"paper\": paper\n",
    "    }"
   ]
  },
  {
   "cell_type": "code",
   "execution_count": 7,
   "id": "ce81606c-6570-4ead-82e6-d75a74e148e1",
   "metadata": {
    "tags": []
   },
   "outputs": [],
   "source": [
    "def extract_paper_title_from_entry(entry: str)-> str:\n",
    "    title = entry.split(\"-\")[0].strip()\n",
    "    return title"
   ]
  },
  {
   "cell_type": "code",
   "execution_count": 8,
   "id": "4e57a048-d7c7-4ded-8db9-ff073d1cb6a6",
   "metadata": {
    "tags": []
   },
   "outputs": [],
   "source": [
    "texts = list(papers_df['text'])"
   ]
  },
  {
   "cell_type": "code",
   "execution_count": 10,
   "id": "039442ef-8f96-4753-8a82-1856170620c0",
   "metadata": {
    "tags": []
   },
   "outputs": [],
   "source": [
    "entries = []\n",
    "for text in texts:\n",
    "    paper_title = extract_paper_title_from_entry(text)\n",
    "    entries.append(get_json_entry(text, paper_title))"
   ]
  },
  {
   "cell_type": "code",
   "execution_count": 20,
   "id": "3be6ddfe-3696-41c6-9089-65a3b2dc548d",
   "metadata": {
    "tags": []
   },
   "outputs": [],
   "source": [
    "for entry in entries:\n",
    "    key = hash(json.dumps(entry))\n",
    "    redis_connection.json().set(\"bug_framework:\"+str(key), Path.root_path(), entry)"
   ]
  },
  {
   "cell_type": "code",
   "execution_count": null,
   "id": "7279cc6d-ed77-4b16-8bea-907a1539d4be",
   "metadata": {},
   "outputs": [],
   "source": []
  }
 ],
 "metadata": {
  "kernelspec": {
   "display_name": "Python 3 (ipykernel)",
   "language": "python",
   "name": "python3"
  },
  "language_info": {
   "codemirror_mode": {
    "name": "ipython",
    "version": 3
   },
   "file_extension": ".py",
   "mimetype": "text/x-python",
   "name": "python",
   "nbconvert_exporter": "python",
   "pygments_lexer": "ipython3",
   "version": "3.11.5"
  }
 },
 "nbformat": 4,
 "nbformat_minor": 5
}
