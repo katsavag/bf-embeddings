{
 "cells": [
  {
   "cell_type": "code",
   "execution_count": 7,
   "id": "a1f18fd3-3c4e-440b-942e-7dfc641a6cd6",
   "metadata": {
    "tags": []
   },
   "outputs": [],
   "source": [
    "import pandas as pd\n",
    "import redis\n",
    "from redis.commands.json.path import Path\n",
    "from redis.commands.search.field import (\n",
    "    NumericField,\n",
    "    TagField,\n",
    "    TextField,\n",
    "    VectorField,\n",
    ")\n",
    "from redis.commands.search.indexDefinition import IndexDefinition, IndexType\n",
    "from redis.commands.search.query import Query\n",
    "from sentence_transformers import SentenceTransformer\n",
    "import json\n",
    "from sentence_transformers import SentenceTransformer\n",
    "import numpy as np\n"
   ]
  },
  {
   "cell_type": "code",
   "execution_count": 8,
   "id": "c7c747d5-eff1-42a2-98bd-c4ecd5def9e0",
   "metadata": {},
   "outputs": [],
   "source": [
    "redis_connection = redis.Redis(host='snf-42929.ok-kno.grnetcloud.net', \n",
    "                               port=6379,\n",
    "                               # username='bf_user',\n",
    "                               # password='BugFr@m3w0rk',\n",
    "                               decode_responses=True)"
   ]
  },
  {
   "cell_type": "code",
   "execution_count": 9,
   "id": "4824ce46-9ab7-4dee-a0cd-d7629b9ea0c5",
   "metadata": {
    "tags": []
   },
   "outputs": [],
   "source": [
    "papers_df = pd.read_csv('data/cleaned_db_text.csv')\n",
    "model = SentenceTransformer('all-mpnet-base-v2')"
   ]
  },
  {
   "cell_type": "code",
   "execution_count": 42,
   "id": "88245bc0-2735-481e-b354-b6a4471023c4",
   "metadata": {
    "tags": []
   },
   "outputs": [],
   "source": [
    "# Constants\n",
    "VECTOR_DIM = 768 # length of the vectors\n",
    "VECTOR_NUMBER = 191                 # initial number of vectors\n",
    "INDEX_NAME = \"idx:bf5\"                 # name of the search index\n",
    "PREFIX = \"bugframework:\"                                 # prefix for the document keys\n",
    "DISTANCE_METRIC = \"COSINE\"    \n",
    "\n",
    "# Create index on Redis Stack\n",
    "schema = (\n",
    "    TextField('$.paper', no_stem=True, as_name='paper'),\n",
    "    TextField('$.text', no_stem=True, as_name='text'),\n",
    "    VectorField('$.content_vector', 'FLAT', \n",
    "                {\n",
    "                    \"TYPE\": 'FLOAT32',\n",
    "                    \"DIM\": VECTOR_DIM,\n",
    "                    \"DISTANCE_METRIC\": DISTANCE_METRIC,\n",
    "                }, as_name='content_vector'\n",
    "    )\n",
    ")\n",
    "\n",
    "try:\n",
    "    redis_connection.ft(INDEX_NAME).info()\n",
    "    print(\"Index already exists\")\n",
    "except:\n",
    "    # Create RediSearch Index\n",
    "    redis_connection.ft(INDEX_NAME).create_index(\n",
    "        fields = schema,\n",
    "        definition = IndexDefinition(prefix=[PREFIX], index_type=IndexType.JSON)\n",
    "    )"
   ]
  },
  {
   "cell_type": "code",
   "execution_count": 25,
   "id": "a8f3b06f-9291-40a9-89c2-55a299f97fb4",
   "metadata": {
    "tags": []
   },
   "outputs": [],
   "source": [
    "def get_json_entry(text: str, paper: str):\n",
    "    return {\n",
    "        \"text\": text,\n",
    "        \"paper\": paper,\n",
    "        \"content_vector\": model.encode(text).astype(np.float32).tolist()\n",
    "    }"
   ]
  },
  {
   "cell_type": "code",
   "execution_count": 26,
   "id": "ce81606c-6570-4ead-82e6-d75a74e148e1",
   "metadata": {
    "tags": []
   },
   "outputs": [],
   "source": [
    "def extract_paper_title_from_entry(entry: str)-> str:\n",
    "    title = entry.split(\"-\")[0].strip()\n",
    "    return title"
   ]
  },
  {
   "cell_type": "code",
   "execution_count": 27,
   "id": "4e57a048-d7c7-4ded-8db9-ff073d1cb6a6",
   "metadata": {
    "tags": []
   },
   "outputs": [],
   "source": [
    "texts = list(papers_df['text'])"
   ]
  },
  {
   "cell_type": "code",
   "execution_count": 18,
   "id": "039442ef-8f96-4753-8a82-1856170620c0",
   "metadata": {
    "tags": []
   },
   "outputs": [],
   "source": [
    "entries = []\n",
    "for text in texts:\n",
    "    paper_title = extract_paper_title_from_entry(text)\n",
    "    entries.append(get_json_entry(text, paper_title))"
   ]
  },
  {
   "cell_type": "code",
   "execution_count": 28,
   "id": "3be6ddfe-3696-41c6-9089-65a3b2dc548d",
   "metadata": {
    "tags": []
   },
   "outputs": [],
   "source": [
    "counter=0\n",
    "for i, entry in enumerate(entries):\n",
    "    redis_key = f\"bugframework:{i:04}\"\n",
    "    redis_connection.json().set(redis_key, Path.root_path(), entry)\n",
    "    counter = counter+1"
   ]
  },
  {
   "cell_type": "code",
   "execution_count": 46,
   "id": "8d48a534-ab79-4699-b56b-f2d2854869a6",
   "metadata": {
    "tags": []
   },
   "outputs": [
    {
     "name": "stdout",
     "output_type": "stream",
     "text": [
      "Paper Title: Input/Output Check Bugs Taxonomy: Injection Errors in Spotlight- VIII. CONCLUSIONThe CWE digraphs by BF class consequences should bedeeply analyzed. Generation of digraphs with CWEs relatedto particular software errors (e.g., injection errors), detectingcorresponding clusters, and understanding their relationshipswould create a comprehensive view of the CWE modelfor researchers and practitioners. In turn, comparing andcontrasting the CWE's exhaustive list of weaknesses with allthe possible consequence-cause transitions to other BF classeswould improve BF as a tool for describing CVEs., Score: 0.411394834518\n",
      "\n",
      "\n",
      "Paper Title: Classifying Memory Bugs Using Bugs Framework Approach- V. THE BF MEMORY CLASSES AS CWE EXTENSIONThe BF Memory Bugs model reflects the lifecycle of an object. While the pillar CWE-664 reflects the\"lifetime of creation, use, and release\" of a resource, it isquite broad. It is the parent of many CWEs that are not strictlymemory-related. We use asterisks (*) to denote CWEs that areabout any resource. CWE-704 is not a memory-related CWE,but is visualized on the digraph to show all the parent-childrelationships., Score: 0.412238299847\n",
      "\n",
      "\n",
      "Paper Title: Classifying Memory Bugs Using Bugs Framework Approach- V. THE BF MEMORY CLASSES AS CWE EXTENSIONWe have generated a digraph (Fig. 6) of all memoryrelated CWEs to show how they correspond to the possibleBF Memory Error consequences (Table V). An edge starts ata parent CWE and ends at a child CWE. The outline style ofa CWE node indicates the CWE level of abstraction: pillar,class, base, or variant. Bug reporting tools would use base orvariant CWEs, but they may also use higher abstraction levelCWEs if there is not enough specific information about thebug or if there is no related base CWE., Score: 0.415505766869\n",
      "\n",
      "\n",
      "Paper Title:  Input/Output Check Bugs Taxonomy: Injection Errors in Spotlight- V. BF DATA CHECK BUGS TAXONOMY AS CWE EXTENSIONThe BF Data Check Bugs classes present a taxonomywith structured cause/consequence relations that is completeand orthogonal. It could be viewed as a structured extensionover the CWEs related to Injection Errors, Invalid Data,Wrong Value, Inconsistent Value, and Wrong Type. Itis a taxonomy that explains the causal relationships betweenweaknesses and would be easier to use than the nestedhierarchical CWEs., Score: 0.416173815727\n",
      "\n",
      "\n",
      "Paper Title: Classifying Memory Bugs Using Bugs Framework Approach- V. THE BF MEMORY CLASSES AS CWE EXTENSIONFor BF MDL: Memory Leak - relates to CWEs: 401,404*, and 771*; Double free - to CWE-415; Object Corruption - to CWEs: 404*, 761, 762, and 763., Score: 0.416747450829\n",
      "\n",
      "\n",
      "Paper Title: Classifying Memory Bugs Using Bugs Framework Approach- V. THE BF MEMORY CLASSES AS CWE EXTENSIONThe color of a CWE node indicates the BFmemory class associated with that CWE. A BF class isassociated with a CWE if the BF class has a Memory Errorconsequence covered by the CWE description. CWEs relatedto the BF MUS memory errors are presented in blue, CWEsrelated only to MAL are presented in pink, and CWEs relatedto both MAL and MDL are presented in green., Score: 0.418565690517\n",
      "\n",
      "\n",
      "Paper Title: Classifying Memory Bugs Using Bugs Framework Approach- V. THE BF MEMORY CLASSES AS CWE EXTENSIONMost of the BF MUS Memory Error consequences relate to CWEs from the CWE-118 cluster. TheMemory Error consequences from BF MAL and BF MDL relate to CWEs across clusters. Notethat the BF MAD class has no Memory Errorconsequences, so it does not directly relate to any CWE., Score: 0.425327956676\n",
      "\n",
      "\n",
      "Paper Title: Classifying Memory Bugs Using Bugs Framework Approach- V. THE BF MEMORY CLASSES AS CWE EXTENSIONThe digraph helped us identify clusters of memoryrelated CWEs. All these CWEs can be tracked as childrenof the pillar CWE-664, with the only exception of CWE-476(NULL Pointer Dereference). The largest cluster comprisesCWE-118 and the children of CWE-119, which are weaknesses associated with reading and writing outside the boundaries of an object. The second cluster comprises the childrenof CWE-400 and CWE-665, which are mainly weaknessesrelated to memory allocation and object initialization. Thechildren of CWE-404, which are weaknesses associated withimproper memory cleanup and release, form the third cluster.The smallest cluster comprises CWE-704, CWE-588 andCWE-843, which are memory use or deallocation weaknessesdue to the mismatch between pointer and object types., Score: 0.433592379093\n",
      "\n",
      "\n",
      "Paper Title: Input/Output Check Bugs Taxonomy: Injection Errors in Spotlight- I. INTRODUCTIONThe Bugs Framework (BF) builds on these commonly used lists of software weaknesses and vulnerabilities,while addressing the problems that they have. It is being developed as a structured, complete, orthogonal, and languageindependent classification of software bugs and weaknesses.Structured means a weakness is described via one cause,one operation, one consequence, and one value per attributefrom the lists defining a BF class. This ensures precisecausal descriptions. Complete means BF has the expressiveness power to describe any software bug or weakness. This ensures there are no gaps in coverage. Orthogonal means thesets of operations of any two BF classes do not overlap.This ensures there are no overlaps in coverage. BF is alsoapplicable for source code in any programming language.The cause/consequence relation is a key aspect of BF'smethodology that sets it apart from any other efforts. Itallows describing and chaining the bug and the weaknessesunderlining a vulnerability, as well as identifying a bug froma final error and what is required to fix the bug., Score: 0.441997110844\n",
      "\n",
      "\n",
      "Paper Title: Classifying Memory Bugs Using Bugs Framework Approach- V. THE BF MEMORY CLASSES AS CWE EXTENSIONThe identified clusters of memory CWEs do not strictlycorrespond to the phases of address formation, allocation,use, and deallocation. CWEs related to a phase appear inmore than one cluster. In addition, CWE-118 and CWE-119are strictly about memory but cover more than one phase.Viewed as a structured extension, the BF Memory Bugsclasses relate to CWEs through particular Memory Errorconsequences. For BF MAL: Memory Overflow - relates toCWEs: 400*, 770*, and 789; Memory Leak - to CWEs: 401,404*, 771*, and 772*; Double Free - to CWE-415;  ObjectCorruption - to CWEs: 404*, 590, 761, 762, and 763., Score: 0.443733632565\n",
      "\n",
      "\n"
     ]
    }
   ],
   "source": [
    "question_vector = model.encode(\"diffirences between the Bug Framework and CWE\").astype(np.float32).tobytes()\n",
    "query = f\"*=>[KNN 10 @content_vector $vec as score]\"  # Adjust KNN value based on your needs\n",
    "params = {'vec': question_vector}\n",
    "\n",
    "# Execute the query\n",
    "results = redis_connection.ft(\"idx:bf5\").search(Query(query).sort_by('score').return_fields('text', 'score').dialect(2), query_params=params)\n",
    "\n",
    "# Print the results\n",
    "for doc in results.docs:\n",
    "    print(f\"Paper Title: {doc.text}, Score: {doc.score}\")\n",
    "    print(\"\\n\")"
   ]
  },
  {
   "cell_type": "code",
   "execution_count": null,
   "id": "e82893e3-06d9-4341-ac10-4a4996353662",
   "metadata": {},
   "outputs": [],
   "source": []
  }
 ],
 "metadata": {
  "kernelspec": {
   "display_name": "Python 3 (ipykernel)",
   "language": "python",
   "name": "python3"
  },
  "language_info": {
   "codemirror_mode": {
    "name": "ipython",
    "version": 3
   },
   "file_extension": ".py",
   "mimetype": "text/x-python",
   "name": "python",
   "nbconvert_exporter": "python",
   "pygments_lexer": "ipython3",
   "version": "3.11.5"
  }
 },
 "nbformat": 4,
 "nbformat_minor": 5
}
